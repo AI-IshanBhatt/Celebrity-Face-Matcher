{
 "cells": [
  {
   "cell_type": "code",
   "execution_count": 38,
   "metadata": {
    "collapsed": true
   },
   "outputs": [],
   "source": [
    "import os\n",
    "import shutil\n",
    "import numpy as np\n",
    "from glob import glob\n",
    "from math import floor\n",
    "#First split all the celebs in the Celebs/ into Celebs/test,Celebs/train and Celebs/valid"
   ]
  },
  {
   "cell_type": "code",
   "execution_count": 39,
   "metadata": {
    "collapsed": true
   },
   "outputs": [],
   "source": [
    "parent_dir = \"/home/SONY/Celebs/\"\n",
    "directory_struct = {\"train\": os.path.join(parent_dir, \"train\"), \n",
    "                    \"test\": os.path.join(parent_dir, \"test\"),\n",
    "                    \"valid\": os.path.join(parent_dir, \"valid\")}\n",
    "\n",
    "test_ratio = 0.1\n",
    "valid_ratio = 0.1\n",
    "train_ratio = 0.8"
   ]
  },
  {
   "cell_type": "code",
   "execution_count": 40,
   "metadata": {},
   "outputs": [],
   "source": [
    "def move_files(files, category, actress_name):\n",
    "    dest_path = os.path.join(directory_struct[category], actress_name)\n",
    "    os.makedirs(dest_path)\n",
    "    for file_name in files:\n",
    "        shutil.move(file_name, dest_path)"
   ]
  },
  {
   "cell_type": "code",
   "execution_count": 43,
   "metadata": {},
   "outputs": [],
   "source": [
    "def files_splitter(actress_name):\n",
    "    files_location = os.path.join(parent_dir, actress_name+\"/*.jpg\")\n",
    "    actress_files = np.array(glob(files_location))\n",
    "    \n",
    "    print(len(actress_files))\n",
    "    \n",
    "    train_split_num = floor(train_ratio* len(actress_files))\n",
    "    test_files_num = train_split_num + floor(test_ratio* len(actress_files))\n",
    "    valid_files_num = test_files_num + floor(valid_ratio* len(actress_files))\n",
    "    \n",
    "    train_files = actress_files[:train_split_num]\n",
    "    test_files = actress_files[train_split_num:test_files_num]\n",
    "    valid_files = actress_files[test_files_num:valid_files_num]\n",
    "    \n",
    "    move_files(train_files, \"train\", actress_name)\n",
    "    move_files(test_files, \"test\", actress_name)\n",
    "    move_files(valid_files, \"valid\", actress_name)\n",
    "    \n",
    "    print(len(train_files))\n",
    "    print(len(test_files))\n",
    "    print(len(valid_files))"
   ]
  },
  {
   "cell_type": "code",
   "execution_count": 44,
   "metadata": {},
   "outputs": [
    {
     "name": "stdout",
     "output_type": "stream",
     "text": [
      "815\n",
      "652\n",
      "81\n",
      "81\n"
     ]
    }
   ],
   "source": [
    "files_splitter(\"jaq\")"
   ]
  },
  {
   "cell_type": "code",
   "execution_count": 45,
   "metadata": {},
   "outputs": [
    {
     "name": "stdout",
     "output_type": "stream",
     "text": [
      "1533\n",
      "1226\n",
      "153\n",
      "153\n"
     ]
    }
   ],
   "source": [
    "files_splitter(\"anushka\")"
   ]
  },
  {
   "cell_type": "code",
   "execution_count": 46,
   "metadata": {},
   "outputs": [
    {
     "name": "stdout",
     "output_type": "stream",
     "text": [
      "940\n",
      "752\n",
      "94\n",
      "94\n"
     ]
    }
   ],
   "source": [
    "files_splitter(\"kat\")"
   ]
  },
  {
   "cell_type": "code",
   "execution_count": 47,
   "metadata": {},
   "outputs": [
    {
     "name": "stdout",
     "output_type": "stream",
     "text": [
      "1000\n",
      "800\n",
      "100\n",
      "100\n"
     ]
    }
   ],
   "source": [
    "files_splitter(\"deepika\")"
   ]
  },
  {
   "cell_type": "code",
   "execution_count": 48,
   "metadata": {},
   "outputs": [
    {
     "name": "stdout",
     "output_type": "stream",
     "text": [
      "689\n",
      "551\n",
      "68\n",
      "68\n"
     ]
    }
   ],
   "source": [
    "files_splitter(\"priyanka\")"
   ]
  },
  {
   "cell_type": "code",
   "execution_count": null,
   "metadata": {
    "collapsed": true
   },
   "outputs": [],
   "source": []
  }
 ],
 "metadata": {
  "kernelspec": {
   "display_name": "Python 3",
   "language": "python",
   "name": "python3"
  },
  "language_info": {
   "codemirror_mode": {
    "name": "ipython",
    "version": 3
   },
   "file_extension": ".py",
   "mimetype": "text/x-python",
   "name": "python",
   "nbconvert_exporter": "python",
   "pygments_lexer": "ipython3",
   "version": "3.6.1"
  }
 },
 "nbformat": 4,
 "nbformat_minor": 2
}
